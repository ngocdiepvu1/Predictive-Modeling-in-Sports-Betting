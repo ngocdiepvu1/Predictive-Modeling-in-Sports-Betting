{
 "cells": [
  {
   "cell_type": "code",
   "execution_count": 63,
   "id": "1fdc04bc",
   "metadata": {},
   "outputs": [],
   "source": [
    "import requests\n",
    "import pandas as pd"
   ]
  },
  {
   "cell_type": "code",
   "execution_count": 64,
   "id": "0c938013",
   "metadata": {},
   "outputs": [],
   "source": [
    "headers = {\n",
    "\t\"X-RapidAPI-Key\": \"a134cece7dmsha5f71884621a023p1668bcjsnc5ee81815fa1\",\n",
    "\t\"X-RapidAPI-Host\": \"api-football-v1.p.rapidapi.com\"\n",
    "}"
   ]
  },
  {
   "cell_type": "code",
   "execution_count": 65,
   "id": "7627ebe6",
   "metadata": {},
   "outputs": [
    {
     "name": "stdout",
     "output_type": "stream",
     "text": [
      "                    name  code\n",
      "0                Albania    AL\n",
      "1                Algeria    DZ\n",
      "2                Andorra    AD\n",
      "3                 Angola    AO\n",
      "4    Antigua-And-Barbuda    AG\n",
      "..                   ...   ...\n",
      "163              Vietnam    VN\n",
      "164                Wales    GB\n",
      "165                World  None\n",
      "166               Zambia    ZM\n",
      "167             Zimbabwe    ZW\n",
      "\n",
      "[168 rows x 2 columns]\n"
     ]
    }
   ],
   "source": [
    "# Get all countries\n",
    "\n",
    "url = \"https://api-football-v1.p.rapidapi.com/v3/countries\"\n",
    "\n",
    "response = requests.get(url, headers=headers)\n",
    "countries_data = response.json()['response']\n",
    "\n",
    "# Create a list of dictionaries, where each dictionary represents a row of data\n",
    "rows = [{'name': country['name'], 'code': country['code']} for country in countries_data]\n",
    "\n",
    "# Create a DataFrame from the list of dictionaries\n",
    "countries_df = pd.DataFrame(rows)\n",
    "\n",
    "print(countries_df)"
   ]
  },
  {
   "cell_type": "code",
   "execution_count": 66,
   "id": "b66c9f03",
   "metadata": {},
   "outputs": [
    {
     "name": "stdout",
     "output_type": "stream",
     "text": [
      "[2008, 2009, 2010, 2011, 2012, 2013, 2014, 2015, 2016, 2017, 2018, 2019, 2020, 2021, 2022, 2023, 2024, 2025, 2026]\n"
     ]
    }
   ],
   "source": [
    "# Get all seasons\n",
    "\n",
    "url = \"https://api-football-v1.p.rapidapi.com/v3/leagues/seasons\"\n",
    "\n",
    "response = requests.get(url, headers=headers)\n",
    "leagues_data = response.json()['response']\n",
    "\n",
    "print(leagues_data)"
   ]
  },
  {
   "cell_type": "code",
   "execution_count": 78,
   "id": "2c75044a",
   "metadata": {},
   "outputs": [
    {
     "name": "stdout",
     "output_type": "stream",
     "text": [
      "{'home': {'id': 16808, 'name': 'Elman', 'logo': 'https://media.api-sports.io/football/teams/16808.png', 'winner': True}, 'away': {'id': 6417, 'name': 'Dekedaha', 'logo': 'https://media.api-sports.io/football/teams/6417.png', 'winner': False}}\n",
      "       id status                 league  season          home_team  \\\n",
      "0  663684     FT             Friendlies    2021             Panama   \n",
      "1  714615     FT  Somali Premier League    2021              Elman   \n",
      "2  658875     FT         Copa Argentina    2020    Arsenal Sarandi   \n",
      "3  653560     FT   Liga de Expansión MX    2020  Leones Negros UDG   \n",
      "4  652833     FT                Liga MX    2020        Tigres UANL   \n",
      "\n",
      "           away_team  goals_home  goals_away  score_halftime_home  \\\n",
      "0             Serbia           0           0                    0   \n",
      "1           Dekedaha           2           1                    0   \n",
      "2  Huracan Las Heras           0           1                    0   \n",
      "3            Dorados           0           1                    0   \n",
      "4             Necaxa           1           1                    1   \n",
      "\n",
      "   score_halftime_away  score_ft_home  score_ft_away  score_extra_home  \\\n",
      "0                    0              0              0                 0   \n",
      "1                    0              2              1                 0   \n",
      "2                    0              0              1                 0   \n",
      "3                    1              0              1                 0   \n",
      "4                    1              1              1                 0   \n",
      "\n",
      "   score_extra_away  penalty_home  penalty_away  \n",
      "0                 0             0             0  \n",
      "1                 0             0             0  \n",
      "2                 0             0             0  \n",
      "3                 0             0             0  \n",
      "4                 0             0             0  \n"
     ]
    }
   ],
   "source": [
    "# Get all fixtures\n",
    "\n",
    "url = \"https://api-football-v1.p.rapidapi.com/v3/fixtures\"\n",
    "\n",
    "querystring = {\"date\":\"2021-01-29\"}\n",
    "\n",
    "response = requests.get(url, headers=headers, params=querystring)\n",
    "\n",
    "fixtures_data = response.json()['response']\n",
    "\n",
    "'''\n",
    "rows = [{'id': fixture['fixture']['id'], \n",
    "         'status': fixture['fixture']['status']['short'],\n",
    "         'league': fixture['league']['name'],\n",
    "         'season': fixture['league']['season'],\n",
    "         'home_team': fixture['teams']['home']['name'],\n",
    "         'away_team': fixture['teams']['away']['name'],\n",
    "         'winner': fixture['teams']['winner'],\n",
    "         'goals_home': fixture['fixture']['goals']['home'],\n",
    "         'goals_away': fixture['fixture']['goals']['away'],\n",
    "         'score_halftime_home': fixture['score']['halftime']['home'],\n",
    "         'score_halftime_away': fixture['score']['halftime']['away'],\n",
    "         'score_ft_home': fixture['score']['fulltime']['home'],\n",
    "         'score_ft_away': fixture['score']['fulltime']['away'],\n",
    "         'score_extra_home': fixture['score']['extratime']['home'],\n",
    "         'score_extra_away': fixture['score']['fextratime']['away'],\n",
    "         'penalty_home': fixture['score']['penalty']['home'],\n",
    "         'penalty_away': fixture['score']['penalty']['away'],\n",
    "        } for fixture in fixtures_data]\n",
    "'''\n",
    "\n",
    "rows = [{k: v if v is not None else ('n/a' if k in ['id', 'status', 'league', 'season', 'home_team', 'away_team', 'winner'] else 0) for k, v in {\n",
    "         'id': fixture['fixture'].get('id'), \n",
    "         'status': fixture['fixture'].get('status', {}).get('short'),\n",
    "         'league': fixture['league'].get('name'),\n",
    "         'season': fixture['league'].get('season'),\n",
    "         'home_team': fixture['teams'].get('home', {}).get('name'),\n",
    "         'away_team': fixture['teams'].get('away', {}).get('name'),\n",
    "         'goals_home': fixture['goals'].get('home'),\n",
    "         'goals_away': fixture['goals'].get('away'),\n",
    "         'score_halftime_home': fixture['score'].get('halftime', {}).get('home'),\n",
    "         'score_halftime_away': fixture['score'].get('halftime', {}).get('away'),\n",
    "         'score_ft_home': fixture['score'].get('fulltime', {}).get('home'),\n",
    "         'score_ft_away': fixture['score'].get('fulltime', {}).get('away'),\n",
    "         'score_extra_home': fixture['score'].get('extratime', {}).get('home'),\n",
    "         'score_extra_away': fixture['score'].get('extratime', {}).get('away'),\n",
    "         'penalty_home': fixture['score'].get('penalty', {}).get('home'),\n",
    "         'penalty_away': fixture['score'].get('penalty', {}).get('away'),\n",
    "        }.items()} for fixture in fixtures_data]\n",
    "\n",
    "fixtures_df = pd.DataFrame(rows)\n",
    "print(fixtures_data[1]['teams'])\n",
    "\n",
    "print(fixtures_df.head())"
   ]
  },
  {
   "cell_type": "code",
   "execution_count": 108,
   "id": "287d71af",
   "metadata": {},
   "outputs": [],
   "source": [
    "def get_fixtures_one_day(date, df):\n",
    "    querystring = {\"date\":date}\n",
    "\n",
    "    response = requests.get(url, headers=headers, params=querystring)\n",
    "    #print(response.json())\n",
    "    fixtures_data = response.json()['response']\n",
    "    #print(fixtures_data)\n",
    "\n",
    "    rows = [{k: v if v is not None else ('n/a' if k in ['id', 'status', 'league', 'season', 'home_team', 'away_team', 'winner'] else 0) for k, v in {\n",
    "             'id': fixture['fixture'].get('id'), \n",
    "             'status': fixture['fixture'].get('status', {}).get('short'),\n",
    "             'league': fixture['league'].get('name'),\n",
    "             'season': fixture['league'].get('season'),\n",
    "             'home_team': fixture['teams'].get('home', {}).get('name'),\n",
    "             'away_team': fixture['teams'].get('away', {}).get('name'),\n",
    "             'goals_home': fixture['goals'].get('home'),\n",
    "             'goals_away': fixture['goals'].get('away'),\n",
    "             'score_halftime_home': fixture['score'].get('halftime', {}).get('home'),\n",
    "             'score_halftime_away': fixture['score'].get('halftime', {}).get('away'),\n",
    "             'score_ft_home': fixture['score'].get('fulltime', {}).get('home'),\n",
    "             'score_ft_away': fixture['score'].get('fulltime', {}).get('away'),\n",
    "             'score_extra_home': fixture['score'].get('extratime', {}).get('home'),\n",
    "             'score_extra_away': fixture['score'].get('extratime', {}).get('away'),\n",
    "             'penalty_home': fixture['score'].get('penalty', {}).get('home'),\n",
    "             'penalty_away': fixture['score'].get('penalty', {}).get('away'),\n",
    "            }.items()} for fixture in fixtures_data]\n",
    "\n",
    "    fixtures_df = pd.DataFrame(rows)\n",
    "    df = df.append(fixtures_df)\n",
    "    return df\n",
    "\n",
    "df = pd.DataFrame()\n",
    "\n",
    "#df = get_fixtures_one_day(\"2021-01-29\", df)\n",
    "#df = get_fixtures_one_day(\"2022-01-29\", df)\n",
    "#df = get_fixtures_one_day(\"2023-01-29\", df)\n"
   ]
  },
  {
   "cell_type": "code",
   "execution_count": 121,
   "id": "e5ed52ab",
   "metadata": {},
   "outputs": [
    {
     "name": "stdout",
     "output_type": "stream",
     "text": [
      "['2023-09-19', '2023-09-20', '2023-09-21', '2023-09-22', '2023-09-23', '2023-09-24', '2023-09-25', '2023-09-26', '2023-09-27', '2023-09-28', '2023-09-29', '2023-09-30', '2023-10-01', '2023-10-02', '2023-10-03', '2023-10-04', '2023-10-05', '2023-10-06', '2023-10-07', '2023-10-08', '2023-10-09', '2023-10-10', '2023-10-11', '2023-10-12', '2023-10-13', '2023-10-14', '2023-10-15', '2023-10-16', '2023-10-17', '2023-10-18', '2023-10-19']\n"
     ]
    }
   ],
   "source": [
    "from datetime import datetime, timedelta\n",
    "\n",
    "# Get today's date\n",
    "today = datetime.today()\n",
    "\n",
    "# Calculate the date 2 months ago\n",
    "six_months_ago = today - pd.DateOffset(months=6)\n",
    "two_months_ago = today - pd.DateOffset(months=5)\n",
    "\n",
    "# Generate a list of dates from two months ago to today\n",
    "dates = pd.date_range(six_months_ago, two_months_ago, freq='D')\n",
    "\n",
    "# Format the dates as strings in the format \"YYYY-MM-DD\"\n",
    "date_strings = dates.strftime('%Y-%m-%d').tolist()\n",
    "\n",
    "#date_strings.remove('2024-01-26') \n",
    "#date_strings.remove('2024-02-19')\n",
    "#date_strings.remove('2024-02-23')\n",
    "print(date_strings)"
   ]
  },
  {
   "cell_type": "code",
   "execution_count": 120,
   "id": "a682bb65",
   "metadata": {},
   "outputs": [
    {
     "name": "stdout",
     "output_type": "stream",
     "text": [
      "        id status                           league  season  \\\n",
      "0  1147837     FT  Copa de la División Profesional    2023   \n",
      "1  1155710   CANC                 Premier Division    2023   \n",
      "2  1179629     FT                     FA Youth Cup    2023   \n",
      "3  1179630     FT                     FA Youth Cup    2023   \n",
      "4  1179631     FT                     FA Youth Cup    2023   \n",
      "\n",
      "              home_team            away_team  goals_home  goals_away  \\\n",
      "0               Bolívar    Jorge Wilstermann           1           0   \n",
      "1                 Tryum            Willikies           0           0   \n",
      "2  Newcastle United U18    Leyton Orient U18           7           2   \n",
      "3    Fleetwood Town U18        Liverpool U18           1           2   \n",
      "4           Watford U18  Manchester City U18           0           2   \n",
      "\n",
      "   score_halftime_home  score_halftime_away  score_ft_home  score_ft_away  \\\n",
      "0                    0                    0              1              0   \n",
      "1                    0                    0              0              0   \n",
      "2                    3                    2              7              2   \n",
      "3                    0                    1              1              2   \n",
      "4                    0                    1              0              2   \n",
      "\n",
      "   score_extra_home  score_extra_away  penalty_home  penalty_away  \n",
      "0                 0                 0             0             0  \n",
      "1                 0                 0             0             0  \n",
      "2                 0                 0             0             0  \n",
      "3                 0                 0             0             0  \n",
      "4                 0                 0             0             0  \n"
     ]
    }
   ],
   "source": [
    "dec_jan_df = df.copy()\n",
    "print(dec_jan_df.head())"
   ]
  },
  {
   "cell_type": "code",
   "execution_count": 122,
   "id": "a7d80b4d",
   "metadata": {},
   "outputs": [
    {
     "name": "stdout",
     "output_type": "stream",
     "text": [
      "2023-09-19\n",
      "(208, 16)\n",
      "2023-09-20\n",
      "(481, 16)\n",
      "2023-09-21\n",
      "(680, 16)\n",
      "2023-09-22\n",
      "(1121, 16)\n",
      "2023-09-23\n",
      "(2814, 16)\n",
      "2023-09-24\n",
      "(4064, 16)\n",
      "2023-09-25\n",
      "(4224, 16)\n",
      "2023-09-26\n",
      "(4506, 16)\n",
      "2023-09-27\n",
      "(5009, 16)\n",
      "2023-09-28\n",
      "(5209, 16)\n",
      "2023-09-29\n",
      "(5585, 16)\n",
      "2023-09-30\n",
      "(7192, 16)\n",
      "2023-10-01\n",
      "(8555, 16)\n",
      "2023-10-02\n",
      "(8752, 16)\n",
      "2023-10-03\n",
      "(9043, 16)\n",
      "2023-10-04\n",
      "(9451, 16)\n",
      "2023-10-05\n",
      "(9619, 16)\n",
      "2023-10-06\n",
      "(9988, 16)\n",
      "2023-10-07\n",
      "(11700, 16)\n",
      "2023-10-08\n",
      "(13070, 16)\n",
      "2023-10-09\n",
      "(13218, 16)\n",
      "2023-10-10\n",
      "(13348, 16)\n",
      "2023-10-11\n",
      "(13535, 16)\n",
      "2023-10-12\n",
      "(13680, 16)\n",
      "2023-10-13\n",
      "(13959, 16)\n",
      "2023-10-14\n",
      "(15239, 16)\n",
      "2023-10-15\n",
      "(16144, 16)\n",
      "2023-10-16\n",
      "(16248, 16)\n",
      "2023-10-17\n",
      "(16438, 16)\n",
      "2023-10-18\n",
      "(16672, 16)\n",
      "2023-10-19\n",
      "(16763, 16)\n",
      "(16763, 16)\n"
     ]
    }
   ],
   "source": [
    "df = pd.DataFrame()\n",
    "\n",
    "for date in date_strings:\n",
    "    print(date)\n",
    "    df = get_fixtures_one_day(date, df)\n",
    "    print(df.shape)\n",
    "    \n",
    "print(df.shape)"
   ]
  },
  {
   "cell_type": "code",
   "execution_count": 123,
   "id": "44c95cb7",
   "metadata": {},
   "outputs": [
    {
     "name": "stdout",
     "output_type": "stream",
     "text": [
      "(16763, 16)\n"
     ]
    }
   ],
   "source": [
    "print(df.shape)"
   ]
  },
  {
   "cell_type": "code",
   "execution_count": 129,
   "id": "2ae5c8b3",
   "metadata": {},
   "outputs": [
    {
     "name": "stdout",
     "output_type": "stream",
     "text": [
      "         id status                             league  season  \\\n",
      "0    996146     FT                           Liga Pro    2023   \n",
      "1   1005792     FT                            Serie A    2023   \n",
      "2   1006721     FT                            Serie B    2023   \n",
      "3   1027693     FT                   Primera Nacional    2023   \n",
      "4   1119554     FT                   Primera Division    2023   \n",
      "5   1119557     FT                   Primera Division    2023   \n",
      "6    990425     FT                          Primera A    2023   \n",
      "7   1103376     FT               Liga Premier Serie A    2023   \n",
      "8   1031344     FT                            Liga MX    2023   \n",
      "9   1113859     FT                        Asian Games    2022   \n",
      "10  1113860     FT                        Asian Games    2022   \n",
      "11  1113861     FT                        Asian Games    2022   \n",
      "12  1113862     FT                        Asian Games    2022   \n",
      "13  1119290     FT                         League Two    2023   \n",
      "14  1021901     FT  Northern Territory Premier League    2023   \n",
      "\n",
      "                 home_team           away_team  goals_home  goals_away  \\\n",
      "0              Gualaceo SC             Cumbayá           0           3   \n",
      "1              Corinthians              Gremio           4           4   \n",
      "2            Novorizontino               Ceara           4           1   \n",
      "3       Ferro Carril Oeste      Tristan Suarez           2           1   \n",
      "4             UNAN Managua          H&H Export           5           0   \n",
      "5              Real Estelí           Matagalpa           2           1   \n",
      "6   Independiente Medellin         Millonarios           1           1   \n",
      "7          Orgullo Reynosa         Mexicali FC           1           0   \n",
      "8                  Pachuca       Santos Laguna           3           2   \n",
      "9           Bangladesh U23         Myanmar U23           0           1   \n",
      "10             Vietnam U23        Mongolia U23           4           2   \n",
      "11             Bahrain U23        Thailand U23           1           1   \n",
      "12           Korea DPR U23  Chinese Taipei U23           2           0   \n",
      "13       Shangyu Pterosaur        Zibo Qisheng           0           1   \n",
      "14          Darwin Olympic   Hellenic Athletic           0           3   \n",
      "\n",
      "    score_halftime_home  score_halftime_away  score_ft_home  score_ft_away  \\\n",
      "0                     0                    0              0              3   \n",
      "1                     3                    2              4              4   \n",
      "2                     3                    0              4              1   \n",
      "3                     2                    0              2              1   \n",
      "4                     4                    0              5              0   \n",
      "5                     1                    0              2              1   \n",
      "6                     0                    1              1              1   \n",
      "7                     1                    0              1              0   \n",
      "8                     1                    0              3              2   \n",
      "9                     0                    0              0              1   \n",
      "10                    3                    0              4              2   \n",
      "11                    1                    0              1              1   \n",
      "12                    2                    0              2              0   \n",
      "13                    0                    1              0              1   \n",
      "14                    0                    0              0              3   \n",
      "\n",
      "    score_extra_home  score_extra_away  penalty_home  penalty_away  \n",
      "0                  0                 0             0             0  \n",
      "1                  0                 0             0             0  \n",
      "2                  0                 0             0             0  \n",
      "3                  0                 0             0             0  \n",
      "4                  0                 0             0             0  \n",
      "5                  0                 0             0             0  \n",
      "6                  0                 0             0             0  \n",
      "7                  0                 0             0             0  \n",
      "8                  0                 0             0             0  \n",
      "9                  0                 0             0             0  \n",
      "10                 0                 0             0             0  \n",
      "11                 0                 0             0             0  \n",
      "12                 0                 0             0             0  \n",
      "13                 0                 0             0             0  \n",
      "14                 0                 0             0             0  \n"
     ]
    }
   ],
   "source": [
    "print(df.head(15))"
   ]
  },
  {
   "cell_type": "code",
   "execution_count": 124,
   "id": "51940618",
   "metadata": {},
   "outputs": [],
   "source": [
    "df.to_excel('fixtures.xlsx', index=False)"
   ]
  },
  {
   "cell_type": "code",
   "execution_count": 137,
   "id": "4b8955c9",
   "metadata": {},
   "outputs": [
    {
     "name": "stdout",
     "output_type": "stream",
     "text": [
      "{'get': 'predictions', 'parameters': {'fixture': '198772'}, 'errors': [], 'results': 1, 'paging': {'current': 1, 'total': 1}, 'response': [{'predictions': {'winner': {'id': 1189, 'name': 'Deportivo Santani', 'comment': 'Win or draw'}, 'win_or_draw': True, 'under_over': '-3.5', 'goals': {'home': '-2.5', 'away': '-1.5'}, 'advice': 'Combo Double chance : Deportivo Santani or draw and -3.5 goals', 'percent': {'home': '45%', 'draw': '45%', 'away': '10%'}}, 'league': {'id': 252, 'name': 'Division Profesional - Clausura', 'country': 'Paraguay', 'logo': 'https://media.api-sports.io/football/leagues/252.png', 'flag': 'https://media.api-sports.io/flags/py.svg', 'season': 2019}, 'teams': {'home': {'id': 1189, 'name': 'Deportivo Santani', 'logo': 'https://media.api-sports.io/football/teams/1189.png', 'last_5': {'played': 5, 'form': '60%', 'att': '60%', 'def': '0%', 'goals': {'for': {'total': 3, 'average': '0.6'}, 'against': {'total': 5, 'average': '1.0'}}}, 'league': {'form': 'LDLDLDLWLWWLW', 'fixtures': {'played': {'home': 6, 'away': 7, 'total': 13}, 'wins': {'home': 2, 'away': 2, 'total': 4}, 'draws': {'home': 3, 'away': 0, 'total': 3}, 'loses': {'home': 1, 'away': 5, 'total': 6}}, 'goals': {'for': {'total': {'home': 7, 'away': 4, 'total': 11}, 'average': {'home': '1.2', 'away': '0.6', 'total': '0.8'}, 'minute': {'0-15': {'total': None, 'percentage': None}, '16-30': {'total': 4, 'percentage': '40.00%'}, '31-45': {'total': 2, 'percentage': '20.00%'}, '46-60': {'total': None, 'percentage': None}, '61-75': {'total': 3, 'percentage': '30.00%'}, '76-90': {'total': 1, 'percentage': '10.00%'}, '91-105': {'total': None, 'percentage': None}, '106-120': {'total': None, 'percentage': None}}}, 'against': {'total': {'home': 6, 'away': 14, 'total': 20}, 'average': {'home': '1.0', 'away': '2.0', 'total': '1.5'}, 'minute': {'0-15': {'total': 3, 'percentage': '14.29%'}, '16-30': {'total': 4, 'percentage': '19.05%'}, '31-45': {'total': 2, 'percentage': '9.52%'}, '46-60': {'total': None, 'percentage': None}, '61-75': {'total': 5, 'percentage': '23.81%'}, '76-90': {'total': 4, 'percentage': '19.05%'}, '91-105': {'total': 3, 'percentage': '14.29%'}, '106-120': {'total': None, 'percentage': None}}}}, 'biggest': {'streak': {'wins': 2, 'draws': 1, 'loses': 1}, 'wins': {'home': '3-1', 'away': '0-1'}, 'loses': {'home': '0-2', 'away': '4-0'}, 'goals': {'for': {'home': 3, 'away': 1}, 'against': {'home': 2, 'away': 4}}}, 'clean_sheet': {'home': 1, 'away': 2, 'total': 3}, 'failed_to_score': {'home': 1, 'away': 3, 'total': 4}, 'penalty': {'scored': {'total': 0, 'percentage': '0%'}, 'missed': {'total': 0, 'percentage': '0%'}, 'total': 0}, 'lineups': [], 'cards': {'yellow': {'0-15': {'total': 3, 'percentage': '9.38%'}, '16-30': {'total': 5, 'percentage': '15.63%'}, '31-45': {'total': 3, 'percentage': '9.38%'}, '46-60': {'total': 5, 'percentage': '15.63%'}, '61-75': {'total': 4, 'percentage': '12.50%'}, '76-90': {'total': 12, 'percentage': '37.50%'}, '91-105': {'total': None, 'percentage': None}, '106-120': {'total': None, 'percentage': None}}, 'red': {'0-15': {'total': None, 'percentage': None}, '16-30': {'total': None, 'percentage': None}, '31-45': {'total': None, 'percentage': None}, '46-60': {'total': None, 'percentage': None}, '61-75': {'total': None, 'percentage': None}, '76-90': {'total': None, 'percentage': None}, '91-105': {'total': None, 'percentage': None}, '106-120': {'total': None, 'percentage': None}}}}}, 'away': {'id': 1180, 'name': 'Deportivo Capiata', 'logo': 'https://media.api-sports.io/football/teams/1180.png', 'last_5': {'played': 5, 'form': '40%', 'att': '80%', 'def': '0%', 'goals': {'for': {'total': 4, 'average': '0.8'}, 'against': {'total': 8, 'average': '1.6'}}}, 'league': {'form': 'WLWLDLDLLLLWW', 'fixtures': {'played': {'home': 7, 'away': 6, 'total': 13}, 'wins': {'home': 3, 'away': 1, 'total': 4}, 'draws': {'home': 0, 'away': 2, 'total': 2}, 'loses': {'home': 4, 'away': 3, 'total': 7}}, 'goals': {'for': {'total': {'home': 8, 'away': 3, 'total': 11}, 'average': {'home': '1.1', 'away': '0.5', 'total': '0.8'}, 'minute': {'0-15': {'total': 2, 'percentage': '18.18%'}, '16-30': {'total': None, 'percentage': None}, '31-45': {'total': 1, 'percentage': '9.09%'}, '46-60': {'total': 1, 'percentage': '9.09%'}, '61-75': {'total': 4, 'percentage': '36.36%'}, '76-90': {'total': 1, 'percentage': '9.09%'}, '91-105': {'total': 2, 'percentage': '18.18%'}, '106-120': {'total': None, 'percentage': None}}}, 'against': {'total': {'home': 14, 'away': 10, 'total': 24}, 'average': {'home': '2.0', 'away': '1.7', 'total': '1.8'}, 'minute': {'0-15': {'total': 5, 'percentage': '20.83%'}, '16-30': {'total': 2, 'percentage': '8.33%'}, '31-45': {'total': 4, 'percentage': '16.67%'}, '46-60': {'total': 4, 'percentage': '16.67%'}, '61-75': {'total': 4, 'percentage': '16.67%'}, '76-90': {'total': 3, 'percentage': '12.50%'}, '91-105': {'total': 2, 'percentage': '8.33%'}, '106-120': {'total': None, 'percentage': None}}}}, 'biggest': {'streak': {'wins': 1, 'draws': 1, 'loses': 4}, 'wins': {'home': '3-1', 'away': '0-1'}, 'loses': {'home': '0-6', 'away': '3-0'}, 'goals': {'for': {'home': 3, 'away': 1}, 'against': {'home': 6, 'away': 3}}}, 'clean_sheet': {'home': 1, 'away': 1, 'total': 2}, 'failed_to_score': {'home': 3, 'away': 3, 'total': 6}, 'penalty': {'scored': {'total': 2, 'percentage': '100.00%'}, 'missed': {'total': 0, 'percentage': '0%'}, 'total': 2}, 'lineups': [], 'cards': {'yellow': {'0-15': {'total': 5, 'percentage': '12.20%'}, '16-30': {'total': 5, 'percentage': '12.20%'}, '31-45': {'total': 7, 'percentage': '17.07%'}, '46-60': {'total': 12, 'percentage': '29.27%'}, '61-75': {'total': 6, 'percentage': '14.63%'}, '76-90': {'total': 6, 'percentage': '14.63%'}, '91-105': {'total': None, 'percentage': None}, '106-120': {'total': None, 'percentage': None}}, 'red': {'0-15': {'total': None, 'percentage': None}, '16-30': {'total': None, 'percentage': None}, '31-45': {'total': None, 'percentage': None}, '46-60': {'total': 1, 'percentage': '50.00%'}, '61-75': {'total': 1, 'percentage': '50.00%'}, '76-90': {'total': None, 'percentage': None}, '91-105': {'total': None, 'percentage': None}, '106-120': {'total': None, 'percentage': None}}}}}}, 'comparison': {'form': {'home': '60%', 'away': '40%'}, 'att': {'home': '43%', 'away': '57%'}, 'def': {'home': '62%', 'away': '38%'}, 'poisson_distribution': {'home': '75%', 'away': '25%'}, 'h2h': {'home': '29%', 'away': '71%'}, 'goals': {'home': '40%', 'away': '60%'}, 'total': {'home': '51.5%', 'away': '48.5%'}}, 'h2h': [{'fixture': {'id': 198706, 'referee': 'J. Méndez', 'timezone': 'UTC', 'date': '2019-07-27T19:30:00+00:00', 'timestamp': 1564255800, 'periods': {'first': 1564255800, 'second': 1564259400}, 'venue': {'id': None, 'name': 'Estadio Lic. Erico Galeano Segovia (Capiatá)', 'city': None}, 'status': {'long': 'Match Finished', 'short': 'FT', 'elapsed': 90}}, 'league': {'id': 252, 'name': 'Division Profesional - Clausura', 'country': 'Paraguay', 'logo': 'https://media.api-sports.io/football/leagues/252.png', 'flag': 'https://media.api-sports.io/flags/py.svg', 'season': 2019, 'round': 'Clausura - 3'}, 'teams': {'home': {'id': 1180, 'name': 'Deportivo Capiata', 'logo': 'https://media.api-sports.io/football/teams/1180.png', 'winner': True}, 'away': {'id': 1189, 'name': 'Deportivo Santani', 'logo': 'https://media.api-sports.io/football/teams/1189.png', 'winner': False}}, 'goals': {'home': 3, 'away': 1}, 'score': {'halftime': {'home': 1, 'away': 1}, 'fulltime': {'home': 3, 'away': 1}, 'extratime': {'home': None, 'away': None}, 'penalty': {'home': None, 'away': None}}}, {'fixture': {'id': 144182, 'referee': None, 'timezone': 'UTC', 'date': '2019-03-25T23:15:00+00:00', 'timestamp': 1553555700, 'periods': {'first': 1553555700, 'second': 1553559300}, 'venue': {'id': None, 'name': 'Estadio Lic. Erico Galeano Segovia (Capiatá)', 'city': None}, 'status': {'long': 'Match Finished', 'short': 'FT', 'elapsed': 90}}, 'league': {'id': 250, 'name': 'Division Profesional - Apertura', 'country': 'Paraguay', 'logo': 'https://media.api-sports.io/football/leagues/250.png', 'flag': 'https://media.api-sports.io/flags/py.svg', 'season': 2019, 'round': 'Regular Season - 12'}, 'teams': {'home': {'id': 1180, 'name': 'Deportivo Capiata', 'logo': 'https://media.api-sports.io/football/teams/1180.png', 'winner': True}, 'away': {'id': 1189, 'name': 'Deportivo Santani', 'logo': 'https://media.api-sports.io/football/teams/1189.png', 'winner': False}}, 'goals': {'home': 2, 'away': 1}, 'score': {'halftime': {'home': 2, 'away': 1}, 'fulltime': {'home': 2, 'away': 1}, 'extratime': {'home': None, 'away': None}, 'penalty': {'home': None, 'away': None}}}, {'fixture': {'id': 144113, 'referee': None, 'timezone': 'UTC', 'date': '2019-01-23T21:00:00+00:00', 'timestamp': 1548277200, 'periods': {'first': 1548277200, 'second': 1548280800}, 'venue': {'id': None, 'name': 'Estadio Juan José Vázquez (San Estanislao)', 'city': None}, 'status': {'long': 'Match Finished', 'short': 'FT', 'elapsed': 90}}, 'league': {'id': 250, 'name': 'Division Profesional - Apertura', 'country': 'Paraguay', 'logo': 'https://media.api-sports.io/football/leagues/250.png', 'flag': 'https://media.api-sports.io/flags/py.svg', 'season': 2019, 'round': 'Regular Season - 1'}, 'teams': {'home': {'id': 1189, 'name': 'Deportivo Santani', 'logo': 'https://media.api-sports.io/football/teams/1189.png', 'winner': None}, 'away': {'id': 1180, 'name': 'Deportivo Capiata', 'logo': 'https://media.api-sports.io/football/teams/1180.png', 'winner': None}}, 'goals': {'home': 0, 'away': 0}, 'score': {'halftime': {'home': 0, 'away': 0}, 'fulltime': {'home': 0, 'away': 0}, 'extratime': {'home': None, 'away': None}, 'penalty': {'home': None, 'away': None}}}, {'fixture': {'id': 144745, 'referee': None, 'timezone': 'UTC', 'date': '2018-11-12T20:45:00+00:00', 'timestamp': 1542055500, 'periods': {'first': 1542055500, 'second': 1542059100}, 'venue': {'id': None, 'name': 'Estadio Lic. Erico Galeano Segovia (Capiatá)', 'city': None}, 'status': {'long': 'Match Finished', 'short': 'FT', 'elapsed': 90}}, 'league': {'id': 252, 'name': 'Division Profesional - Clausura', 'country': 'Paraguay', 'logo': 'https://media.api-sports.io/football/leagues/252.png', 'flag': 'https://media.api-sports.io/flags/py.svg', 'season': 2018, 'round': 'Regular Season - 18'}, 'teams': {'home': {'id': 1180, 'name': 'Deportivo Capiata', 'logo': 'https://media.api-sports.io/football/teams/1180.png', 'winner': False}, 'away': {'id': 1189, 'name': 'Deportivo Santani', 'logo': 'https://media.api-sports.io/football/teams/1189.png', 'winner': True}}, 'goals': {'home': 0, 'away': 2}, 'score': {'halftime': {'home': 0, 'away': 1}, 'fulltime': {'home': 0, 'away': 2}, 'extratime': {'home': None, 'away': None}, 'penalty': {'home': None, 'away': None}}}, {'fixture': {'id': 144679, 'referee': None, 'timezone': 'UTC', 'date': '2018-08-26T19:30:00+00:00', 'timestamp': 1535311800, 'periods': {'first': 1535311800, 'second': 1535315400}, 'venue': {'id': None, 'name': 'Estadio Juan José Vázquez (San Estanislao)', 'city': None}, 'status': {'long': 'Match Finished', 'short': 'FT', 'elapsed': 90}}, 'league': {'id': 252, 'name': 'Division Profesional - Clausura', 'country': 'Paraguay', 'logo': 'https://media.api-sports.io/football/leagues/252.png', 'flag': 'https://media.api-sports.io/flags/py.svg', 'season': 2018, 'round': 'Regular Season - 7'}, 'teams': {'home': {'id': 1189, 'name': 'Deportivo Santani', 'logo': 'https://media.api-sports.io/football/teams/1189.png', 'winner': False}, 'away': {'id': 1180, 'name': 'Deportivo Capiata', 'logo': 'https://media.api-sports.io/football/teams/1180.png', 'winner': True}}, 'goals': {'home': 0, 'away': 1}, 'score': {'halftime': {'home': 0, 'away': 1}, 'fulltime': {'home': 0, 'away': 1}, 'extratime': {'home': None, 'away': None}, 'penalty': {'home': None, 'away': None}}}]}]}\n"
     ]
    }
   ],
   "source": [
    "#url = \"https://api-football-v1.p.rapidapi.com/v3/odds/live/bets\"\n",
    "url = \"https://api-football-v1.p.rapidapi.com/v3/predictions\"\n",
    "querystring = {\"fixture\":\"198772\"}\n",
    "\n",
    "headers = {\n",
    "\t\"X-RapidAPI-Key\": \"a134cece7dmsha5f71884621a023p1668bcjsnc5ee81815fa1\",\n",
    "\t\"X-RapidAPI-Host\": \"api-football-v1.p.rapidapi.com\"\n",
    "}\n",
    "\n",
    "response = requests.get(url, headers=headers, params=querystring)\n",
    "\n",
    "print(response.json())"
   ]
  },
  {
   "cell_type": "code",
   "execution_count": 138,
   "id": "739e331b",
   "metadata": {},
   "outputs": [
    {
     "name": "stdout",
     "output_type": "stream",
     "text": [
      "{'get': 'odds/bets', 'parameters': [], 'errors': [], 'results': 323, 'paging': {'current': 1, 'total': 1}, 'response': [{'id': 1, 'name': 'Match Winner'}, {'id': 2, 'name': 'Home/Away'}, {'id': 3, 'name': 'Second Half Winner'}, {'id': 4, 'name': 'Asian Handicap'}, {'id': 5, 'name': 'Goals Over/Under'}, {'id': 6, 'name': 'Goals Over/Under First Half'}, {'id': 7, 'name': 'HT/FT Double'}, {'id': 8, 'name': 'Both Teams Score'}, {'id': 9, 'name': 'Handicap Result'}, {'id': 10, 'name': 'Exact Score'}, {'id': 11, 'name': 'Highest Scoring Half'}, {'id': 12, 'name': 'Double Chance'}, {'id': 13, 'name': 'First Half Winner'}, {'id': 14, 'name': 'Team To Score First'}, {'id': 15, 'name': 'Team To Score Last'}, {'id': 16, 'name': 'Total - Home'}, {'id': 17, 'name': 'Total - Away'}, {'id': 18, 'name': 'Handicap Result - First Half'}, {'id': 19, 'name': 'Asian Handicap First Half'}, {'id': 20, 'name': 'Double Chance - First Half'}, {'id': 21, 'name': 'Odd/Even'}, {'id': 22, 'name': 'Odd/Even - First Half'}, {'id': 23, 'name': 'Home Odd/Even'}, {'id': 24, 'name': 'Results/Both Teams Score'}, {'id': 25, 'name': 'Result/Total Goals'}, {'id': 26, 'name': 'Goals Over/Under - Second Half'}, {'id': 27, 'name': 'Clean Sheet - Home'}, {'id': 28, 'name': 'Clean Sheet - Away'}, {'id': 29, 'name': 'Win to Nil - Home'}, {'id': 30, 'name': 'Win to Nil - Away'}, {'id': 31, 'name': 'Correct Score - First Half'}, {'id': 32, 'name': 'Win Both Halves'}, {'id': 33, 'name': 'Double Chance - Second Half'}, {'id': 34, 'name': 'Both Teams Score - First Half'}, {'id': 35, 'name': 'Both Teams To Score - Second Half'}, {'id': 36, 'name': 'Win To Nil'}, {'id': 37, 'name': 'Home win both halves'}, {'id': 38, 'name': 'Exact Goals Number'}, {'id': 39, 'name': 'To Win Either Half'}, {'id': 40, 'name': 'Home Team Exact Goals Number'}, {'id': 41, 'name': 'Away Team Exact Goals Number'}, {'id': 42, 'name': 'Second Half Exact Goals Number'}, {'id': 43, 'name': 'Home Team Score a Goal'}, {'id': 44, 'name': 'Away Team Score a Goal'}, {'id': 45, 'name': 'Corners Over Under'}, {'id': 46, 'name': 'Exact Goals Number - First Half'}, {'id': 47, 'name': 'Winning Margin'}, {'id': 48, 'name': 'To Score In Both Halves By Teams'}, {'id': 49, 'name': 'Total Goals/Both Teams To Score'}, {'id': 50, 'name': 'Goal Line'}, {'id': 51, 'name': 'Halftime Result/Total Goals'}, {'id': 52, 'name': 'Halftime Result/Both Teams Score'}, {'id': 53, 'name': 'Away win both halves'}, {'id': 54, 'name': 'First 10 min Winner'}, {'id': 55, 'name': 'Corners 1x2'}, {'id': 56, 'name': 'Corners Asian Handicap'}, {'id': 57, 'name': 'Home Corners Over/Under'}, {'id': 58, 'name': 'Away Corners Over/Under'}, {'id': 59, 'name': 'Own Goal'}, {'id': 60, 'name': 'Away Odd/Even'}, {'id': 61, 'name': 'To Qualify'}, {'id': 62, 'name': 'Correct Score - Second Half'}, {'id': 63, 'name': 'Odd/Even - Second Half'}, {'id': 72, 'name': 'Goal Line (1st Half)'}, {'id': 73, 'name': 'Both Teams to Score 1st Half - 2nd Half'}, {'id': 74, 'name': '10 Over/Under'}, {'id': 75, 'name': 'Last Corner'}, {'id': 76, 'name': 'First Corner'}, {'id': 77, 'name': 'Total Corners (1st Half)'}, {'id': 78, 'name': 'RTG_H1'}, {'id': 79, 'name': 'Cards European Handicap'}, {'id': 80, 'name': 'Cards Over/Under'}, {'id': 81, 'name': 'Cards Asian Handicap'}, {'id': 82, 'name': 'Home Team Total Cards'}, {'id': 83, 'name': 'Away Team Total Cards'}, {'id': 84, 'name': 'Total Corners (3 way) (1st Half)'}, {'id': 85, 'name': 'Total Corners (3 way)'}, {'id': 86, 'name': 'RCARD'}, {'id': 87, 'name': 'Total ShotOnGoal'}, {'id': 88, 'name': 'Home Total ShotOnGoal'}, {'id': 89, 'name': 'Away Total ShotOnGoal'}, {'id': 91, 'name': 'Total Goals (3 way)'}, {'id': 92, 'name': 'Anytime Goal Scorer'}, {'id': 93, 'name': 'First Goal Scorer'}, {'id': 94, 'name': 'Last Goal Scorer'}, {'id': 95, 'name': 'To Score Two or More Goals'}, {'id': 96, 'name': 'Last Goal Scorer'}, {'id': 97, 'name': 'First Goal Method'}, {'id': 99, 'name': 'To Score A Penalty'}, {'id': 100, 'name': 'To Miss A Penalty'}, {'id': 101, 'name': None}, {'id': 102, 'name': 'Player to be booked'}, {'id': 103, 'name': 'Player to be Sent Off'}, {'id': 104, 'name': 'Asian Handicap (2nd Half)'}, {'id': 105, 'name': 'Home Team Total Goals(1st Half)'}, {'id': 106, 'name': 'Away Team Total Goals(1st Half)'}, {'id': 107, 'name': 'Home Team Total Goals(2nd Half)'}, {'id': 108, 'name': 'Away Team Total Goals(2nd Half)'}, {'id': 109, 'name': 'Draw No Bet (1st Half)'}, {'id': 110, 'name': 'Scoring Draw'}, {'id': 111, 'name': 'Home team will score in both halves'}, {'id': 112, 'name': 'Away team will score in both halves'}, {'id': 113, 'name': 'Both Teams To Score in Both Halves'}, {'id': 114, 'name': 'Home Team Score a Goal (1st Half)'}, {'id': 115, 'name': 'Home Team Score a Goal (2nd Half)'}, {'id': 116, 'name': 'Away Team Score a Goal (1st Half)'}, {'id': 117, 'name': 'Away Team Score a Goal (2nd Half)'}, {'id': 118, 'name': 'Home Win/Over'}, {'id': 119, 'name': 'Home Win/Under'}, {'id': 120, 'name': 'Away Win/Over'}, {'id': 121, 'name': 'Away Win/Under'}, {'id': 122, 'name': 'Home team will win either half'}, {'id': 123, 'name': 'Away team will win either half'}, {'id': 124, 'name': 'Home Come From Behind and Win'}, {'id': 125, 'name': 'Corners Asian Handicap (1st Half)'}, {'id': 126, 'name': 'Corners Asian Handicap (2nd Half)'}, {'id': 127, 'name': 'Total Corners (2nd Half)'}, {'id': 128, 'name': 'Total Corners (3 way) (2nd Half)'}, {'id': 129, 'name': 'Away Come From Behind and Win'}, {'id': 130, 'name': 'Corners 1x2 (1st Half)'}, {'id': 131, 'name': 'Corners 1x2 (2nd Half)'}, {'id': 132, 'name': 'Home Total Corners (1st Half)'}, {'id': 133, 'name': 'Home Total Corners (2nd Half)'}, {'id': 134, 'name': 'Away Total Corners (1st Half)'}, {'id': 135, 'name': 'Away Total Corners (2nd Half)'}, {'id': 136, 'name': '1x2 - 15 minutes'}, {'id': 137, 'name': '1x2 - 60 minutes'}, {'id': 138, 'name': '1x2 - 75 minutes'}, {'id': 139, 'name': '1x2 - 30 minutes'}, {'id': 140, 'name': 'DC - 30 minutes'}, {'id': 141, 'name': 'DC - 15 minutes'}, {'id': 142, 'name': 'DC - 60 minutes'}, {'id': 143, 'name': 'DC - 75 minutes'}, {'id': 144, 'name': 'Goal in 1-15 minutes'}, {'id': 145, 'name': 'Goal in 16-30 minutes'}, {'id': 146, 'name': 'Goal in 31-45 minutes'}, {'id': 147, 'name': 'Goal in 46-60 minutes'}, {'id': 148, 'name': 'Goal in 61-75 minutes'}, {'id': 149, 'name': 'Goal in 76-90 minutes'}, {'id': 150, 'name': 'Home Team Yellow Cards'}, {'id': 151, 'name': 'Away Team Yellow Cards'}, {'id': 152, 'name': 'Yellow Asian Handicap'}, {'id': 153, 'name': 'Yellow Over/Under'}, {'id': 154, 'name': 'Yellow Double Chance'}, {'id': 155, 'name': 'Yellow Over/Under (1st Half)'}, {'id': 156, 'name': 'Yellow Over/Under (2nd Half)'}, {'id': 157, 'name': 'Yellow Odd/Even'}, {'id': 158, 'name': 'Yellow Cards 1x2'}, {'id': 159, 'name': 'Yellow Asian Handicap (1st Half)'}, {'id': 160, 'name': 'Yellow Asian Handicap (2nd Half)'}, {'id': 161, 'name': 'Yellow Cards 1x2 (1st Half)'}, {'id': 162, 'name': 'Yellow Cards 1x2 (2nd Half)'}, {'id': 163, 'name': 'Penalty Awarded'}, {'id': 164, 'name': 'Offsides Total'}, {'id': 165, 'name': 'Offsides 1x2'}, {'id': 166, 'name': 'Offsides Handicap'}, {'id': 167, 'name': 'Offsides Home Total'}, {'id': 168, 'name': 'Offsides Away Total'}, {'id': 169, 'name': 'Offsides Double Chance'}, {'id': 170, 'name': 'Fouls. Away Total'}, {'id': 171, 'name': 'Fouls. Home Total'}, {'id': 172, 'name': 'Fouls. Double Chance'}, {'id': 173, 'name': 'Fouls. Total'}, {'id': 174, 'name': 'Fouls. Handicap'}, {'id': 175, 'name': 'Fouls. 1x2'}, {'id': 176, 'name': 'ShotOnTarget 1x2'}, {'id': 177, 'name': 'ShotOnTarget Handicap'}, {'id': 178, 'name': 'ShotOnTarget Double Chance'}, {'id': 179, 'name': 'First Team to Score'}, {'id': 180, 'name': 'Last Team to Score'}, {'id': 181, 'name': 'European Handicap (2nd Half)'}, {'id': 182, 'name': 'Draw No Bet (2nd Half)'}, {'id': 183, 'name': 'Double Chance/Total'}, {'id': 184, 'name': 'To Score in Both Halves'}, {'id': 185, 'name': 'First Team to Score (3 way) 1st Half'}, {'id': 186, 'name': 'Total Goals Number By Ranges'}, {'id': 187, 'name': 'Total Goals By Ranges (1st Half)'}, {'id': 188, 'name': 'Clean Sheet'}, {'id': 189, 'name': 'To Advance Handicap'}, {'id': 190, 'name': 'Home Exact Goals Number (1st Half)'}, {'id': 191, 'name': 'Away Exact Goals Number (1st Half)'}, {'id': 192, 'name': 'Home Highest Scoring Half'}, {'id': 193, 'name': 'Away Highest Scoring Half'}, {'id': 194, 'name': 'Result/Total Goals (2nd Half)'}, {'id': 195, 'name': 'Either Team Wins By 1 Goals'}, {'id': 196, 'name': 'Either Team Wins By 2 Goals'}, {'id': 197, 'name': 'Over/Under 15m-30m'}, {'id': 198, 'name': 'Over/Under 30m-45m'}, {'id': 199, 'name': 'Home Win To Nill (1st Half)'}, {'id': 200, 'name': 'Home Win To Nill (2nd Half)'}, {'id': 201, 'name': 'To Score In 1st Half'}, {'id': 202, 'name': 'To Score In 2nd Half'}, {'id': 203, 'name': 'Yellow Cards. Odd/Even (1st Half)'}, {'id': 204, 'name': 'Yellow Cards. Odd/Even (2nd Half)'}, {'id': 205, 'name': 'First Team to Score (3 way) 2nd Half'}, {'id': 206, 'name': 'Home No Bet'}, {'id': 207, 'name': 'Away No Bet'}, {'id': 208, 'name': 'Corners. First Corner (3 way)'}, {'id': 209, 'name': 'Home Come From Behind and Draw'}, {'id': 210, 'name': 'Away Come From Behind and Draw'}, {'id': 211, 'name': 'Total Shots'}, {'id': 212, 'name': 'Player Assists'}, {'id': 213, 'name': 'Player Triples'}, {'id': 214, 'name': 'Player Points'}, {'id': 215, 'name': 'Player Singles'}, {'id': 216, 'name': 'Multi Touchdown Scorer (2 or More)'}, {'id': 217, 'name': 'Multi Touchdown Scorer (3 or More)'}, {'id': 218, 'name': 'Away Anytime Goal Scorer'}, {'id': 219, 'name': 'Away First Goal Scorer'}, {'id': 220, 'name': 'Shots. Away Total'}, {'id': 221, 'name': 'Shots. Home Total'}, {'id': 222, 'name': 'To Win From Behind'}, {'id': 223, 'name': 'Number of Goals In Match (Range)'}, {'id': 224, 'name': 'Game Decided After Penalties'}, {'id': 225, 'name': 'Game Decided in Extra Time'}, {'id': 226, 'name': 'Away Last Goal Scorer'}, {'id': 227, 'name': 'Goal Method Header'}, {'id': 228, 'name': 'Home Goal Method Header'}, {'id': 229, 'name': 'Goal Method Outside the Box'}, {'id': 230, 'name': 'Home Goal Method Outside the Box'}, {'id': 231, 'name': 'Home Anytime Goal Scorer'}, {'id': 232, 'name': 'Home First Goal Scorer'}, {'id': 233, 'name': 'Home Last Goal Scorer'}, {'id': 234, 'name': 'Home To Score Three or More Goals'}, {'id': 235, 'name': 'Away To Score Three or More Goals'}, {'id': 236, 'name': 'Away To Score Two or More Goals'}, {'id': 237, 'name': 'Home To Score Two or More Goals'}, {'id': 238, 'name': 'Home Team Goalscorers First'}, {'id': 239, 'name': 'Corners. European Handicap'}, {'id': 240, 'name': 'Home Player Shots'}, {'id': 241, 'name': 'Away Player Shots'}, {'id': 242, 'name': 'Player Shots On Target'}, {'id': 243, 'name': 'Home Shots On Target'}, {'id': 244, 'name': 'Away Shots On Target'}, {'id': 245, 'name': 'Away Goal Method Header'}, {'id': 246, 'name': 'Away Goal Method Outside the Box'}, {'id': 247, 'name': 'Corners Race To'}, {'id': 248, 'name': 'Time Of 1st Score'}, {'id': 249, 'name': 'Multicorners'}, {'id': 250, 'name': 'First Card Received (3 way)'}, {'id': 251, 'name': 'Player to be booked'}, {'id': 252, 'name': 'Both Teams to Receive a Card'}, {'id': 253, 'name': 'Time Of 1st Score'}, {'id': 254, 'name': 'Team Performances (Range)'}, {'id': 255, 'name': 'Home Player Assists'}, {'id': 256, 'name': 'Away Player Assists'}, {'id': 257, 'name': 'Player to Score or Assist'}, {'id': 258, 'name': 'Home Player to Score or Assist'}, {'id': 259, 'name': 'Away Player to Score or Assist'}, {'id': 260, 'name': 'Team Time Of 1st Score'}, {'id': 261, 'name': 'Total Goal Minutes (Range)'}, {'id': 262, 'name': 'Late Goal (Range)'}, {'id': 263, 'name': 'Early Goal (Range)'}, {'id': 264, 'name': 'Player Shots On Target Total'}, {'id': 265, 'name': 'Player Shots Total'}, {'id': 266, 'name': 'Player Fouls Committed'}, {'id': 267, 'name': 'Goalkeeper Saves'}, {'id': 268, 'name': 'Home Goalkeeper Saves'}, {'id': 269, 'name': 'Home Player Shots On Target Total'}, {'id': 270, 'name': 'Home Player Shots Total'}, {'id': 271, 'name': 'Home Player Fouls Committed'}, {'id': 272, 'name': 'Home Player Tackles'}, {'id': 273, 'name': 'Home Player Passes'}, {'id': 274, 'name': 'Away Goalkeeper Saves'}, {'id': 275, 'name': 'Away Player Shots On Target Total'}, {'id': 276, 'name': 'Away Player Shots Total'}, {'id': 277, 'name': 'Away Player Fouls Committed'}, {'id': 278, 'name': 'Away Player Tackles'}, {'id': 279, 'name': 'Away Player Passes'}, {'id': 280, 'name': 'First Set Piece 5 Minutes'}, {'id': 281, 'name': 'Total Tackles'}, {'id': 282, 'name': 'Double Chance/Both Teams To Score'}, {'id': 283, 'name': 'Away Win To Nill (1st Half)'}, {'id': 284, 'name': 'Away Win To Nill (2nd Half)'}, {'id': 285, 'name': 'Team To Score (Goals)'}, {'id': 286, 'name': 'Team Goalscorers First'}, {'id': 287, 'name': 'Team Goalscorers Last'}, {'id': 288, 'name': 'Home Team Goalscorers Last'}, {'id': 289, 'name': 'Away Team Goalscorers First'}, {'id': 290, 'name': 'Away Team Goalscorers Last'}, {'id': 291, 'name': 'Time of First Goal Brackets (Range)'}, {'id': 292, 'name': 'Over/Under between 0 and 10m'}, {'id': 293, 'name': 'Double Chance 0-15m'}, {'id': 294, 'name': 'Double Chance 15-30m'}, {'id': 295, 'name': 'Corners. Total (Range)'}, {'id': 296, 'name': 'Double Chance 30-45m'}, {'id': 297, 'name': 'Corners. total between 0 and 10m'}, {'id': 298, 'name': 'Method of Victory'}, {'id': 299, 'name': 'Cards over/under between 0 and 10 m'}, {'id': 300, 'name': 'Both Teams to Receive 2+ Cards'}, {'id': 301, 'name': 'Tackles. Away Total'}, {'id': 302, 'name': 'Tackles. Home Total'}, {'id': 303, 'name': 'Over/Under between 0 and 10 m'}, {'id': 304, 'name': 'Over/Under between  0 and 10 m'}, {'id': 305, 'name': 'Race to the 2nd goal?'}, {'id': 306, 'name': 'Race to the 3rd goal?'}, {'id': 307, 'name': 'Corners. Double Chance'}, {'id': 308, 'name': 'Race To'}, {'id': 309, 'name': 'Yellow Cards. Home Total (1st Half)'}, {'id': 310, 'name': 'Yellow Cards Away Total (1st Half)'}, {'id': 311, 'name': 'Which team will score the 1st goal?'}, {'id': 312, 'name': '1x2 - 20 minutes'}, {'id': 313, 'name': 'Offsides Odd/Even'}, {'id': 314, 'name': 'Fouls Odd/Even'}, {'id': 315, 'name': 'Saves Total'}, {'id': 316, 'name': 'Saves 1x2'}, {'id': 317, 'name': 'Saves Asian H'}, {'id': 318, 'name': 'Saves O/U Home'}, {'id': 319, 'name': 'Saves O/U Away'}, {'id': 320, 'name': 'Saves Double Chance'}, {'id': 321, 'name': 'Penalty Awarded (1st Half)'}, {'id': 322, 'name': 'Penalty Awarded (2nd Half)'}, {'id': 323, 'name': 'Saves Odd/Even'}, {'id': 324, 'name': 'Corner in 1-15 minutes'}, {'id': 325, 'name': 'Corner in 16-30 minutes'}, {'id': 326, 'name': 'Corner in 31-45 minutes'}, {'id': 327, 'name': 'Corner in 45-60 minutes'}, {'id': 328, 'name': 'Corner in 60-75 minutes'}, {'id': 329, 'name': 'Corner in 75-90 minutes'}, {'id': 330, 'name': 'Home Not lose/Over'}, {'id': 331, 'name': 'Home Not lose/Under'}, {'id': 332, 'name': 'Away Not lose/Over'}, {'id': 333, 'name': 'Away Not lose/Under'}]}\n"
     ]
    }
   ],
   "source": [
    "url = \"https://api-football-v1.p.rapidapi.com/v3/odds/bets\"\n",
    "\n",
    "response = requests.get(url, headers=headers)\n",
    "\n",
    "print(response.json())"
   ]
  },
  {
   "cell_type": "code",
   "execution_count": null,
   "id": "e0d19006",
   "metadata": {},
   "outputs": [],
   "source": [
    "data-v-608030ed"
   ]
  }
 ],
 "metadata": {
  "kernelspec": {
   "display_name": "Python 3 (ipykernel)",
   "language": "python",
   "name": "python3"
  },
  "language_info": {
   "codemirror_mode": {
    "name": "ipython",
    "version": 3
   },
   "file_extension": ".py",
   "mimetype": "text/x-python",
   "name": "python",
   "nbconvert_exporter": "python",
   "pygments_lexer": "ipython3",
   "version": "3.9.7"
  }
 },
 "nbformat": 4,
 "nbformat_minor": 5
}
